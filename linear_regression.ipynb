{
 "cells": [
  {
   "cell_type": "code",
   "execution_count": 1,
   "metadata": {},
   "outputs": [],
   "source": [
    "import numpy as np\n",
    "import seaborn as sns\n",
    "import matplotlib.pyplot as plt\n",
    "from sklearn.datasets import load_boston\n",
    "from sklearn.model_selection import cross_val_score\n",
    "from sklearn.base import BaseEstimator\n",
    "from sklearn.preprocessing import StandardScaler"
   ]
  },
  {
   "cell_type": "code",
   "execution_count": 2,
   "metadata": {},
   "outputs": [],
   "source": [
    "boston = load_boston()"
   ]
  },
  {
   "cell_type": "code",
   "execution_count": 3,
   "metadata": {},
   "outputs": [],
   "source": [
    "X_train, y_train = StandardScaler().fit_transform(boston.data), boston.target"
   ]
  },
  {
   "cell_type": "code",
   "execution_count": 4,
   "metadata": {},
   "outputs": [
    {
     "data": {
      "text/plain": [
       "((506, 13), (506,))"
      ]
     },
     "execution_count": 4,
     "metadata": {},
     "output_type": "execute_result"
    }
   ],
   "source": [
    "X_train.shape, y_train.shape"
   ]
  },
  {
   "cell_type": "code",
   "execution_count": 5,
   "metadata": {},
   "outputs": [],
   "source": [
    "def performance(model):\n",
    "    scores = cross_val_score(model, X_train, y_train, cv=3, scoring='neg_mean_squared_error')\n",
    "    score = np.sqrt(-scores).mean()\n",
    "    return score"
   ]
  },
  {
   "cell_type": "code",
   "execution_count": 6,
   "metadata": {},
   "outputs": [],
   "source": [
    "class MyLinearRegression(BaseEstimator):\n",
    "    def __init__(self, max_iter=1000, learning_rate=0.01):\n",
    "        self.max_iter = max_iter\n",
    "        self.learning_rate = learning_rate\n",
    "        self.w_ = None\n",
    "    def fit(self, _X, y):\n",
    "        n = _X.shape[0]\n",
    "        m = _X.shape[1]\n",
    "        w = np.zeros((m + 1, 1))\n",
    "        X = _X.copy()\n",
    "        X = np.c_[np.ones((n, 1)), X]\n",
    "        for _ in range(self.max_iter):\n",
    "            w -= self.learning_rate * 2 / n * X.T.dot(X.dot(w) - y.reshape(-1, 1))\n",
    "#       w = np.linalg.inv(X.T.dot(X)).dot(X.T).dot(y.reshape(-1, 1))\n",
    "        self.w_ = w\n",
    "        return self\n",
    "    def predict(self, _X):\n",
    "        X = _X.copy()\n",
    "        X = np.c_[np.ones((_X.shape[0], 1)), X]\n",
    "        return X.dot(self.w_)"
   ]
  },
  {
   "cell_type": "markdown",
   "metadata": {},
   "source": [
    "## MyLinearRegression和sklearn的LinearRegression达到相近的准确度"
   ]
  },
  {
   "cell_type": "code",
   "execution_count": 7,
   "metadata": {},
   "outputs": [
    {
     "data": {
      "text/plain": [
       "10.665775466461513"
      ]
     },
     "execution_count": 7,
     "metadata": {},
     "output_type": "execute_result"
    }
   ],
   "source": [
    "performance(MyLinearRegression())"
   ]
  },
  {
   "cell_type": "code",
   "execution_count": 8,
   "metadata": {},
   "outputs": [],
   "source": [
    "from sklearn.linear_model import LinearRegression"
   ]
  },
  {
   "cell_type": "code",
   "execution_count": 9,
   "metadata": {},
   "outputs": [
    {
     "data": {
      "text/plain": [
       "10.551452868405692"
      ]
     },
     "execution_count": 9,
     "metadata": {},
     "output_type": "execute_result"
    }
   ],
   "source": [
    "performance(LinearRegression())"
   ]
  },
  {
   "cell_type": "code",
   "execution_count": 9,
   "metadata": {},
   "outputs": [
    {
     "data": {
      "image/png": "[encoded data removed]",
      "text/plain": [
       "<Figure size 432x288 with 1 Axes>"
      ]
     },
     "metadata": {
      "needs_background": "light"
     },
     "output_type": "display_data"
    }
   ],
   "source": [
    "tmp_X = np.array([[1], [2], [3], [4], [5]])\n",
    "tmp_y = np.array([[2], [3.5], [4.2], [6], [7]])\n",
    "\n",
    "y_pred_my_2 = MyLinearRegression(max_iter=2).fit(tmp_X, tmp_y).predict(tmp_X)\n",
    "y_pred_my_5 = MyLinearRegression(max_iter=5).fit(tmp_X, tmp_y).predict(tmp_X)\n",
    "y_pred_my_10 = MyLinearRegression(max_iter=10).fit(tmp_X, tmp_y).predict(tmp_X)\n",
    "y_pred_my_100 = MyLinearRegression(max_iter=100).fit(tmp_X, tmp_y).predict(tmp_X)\n",
    "\n",
    "plt.scatter(x=tmp_X, y=tmp_y)\n",
    "plt.plot(tmp_X, y_pred_my_2, color='gray', label='iter=2')\n",
    "plt.plot(tmp_X, y_pred_my_5, color='yellow', label='iter=5')\n",
    "plt.plot(tmp_X, y_pred_my_10, color='green', label='iter=10')\n",
    "plt.plot(tmp_X, y_pred_my_100, color='red', label='iter=100')\n",
    "plt.legend()\n",
    "plt.show()"
   ]
  }
 ],
 "metadata": {
  "kernelspec": {
   "display_name": "Python 3",
   "language": "python",
   "name": "python3"
  },
  "language_info": {
   "codemirror_mode": {
    "name": "ipython",
    "version": 3
   },
   "file_extension": ".py",
   "mimetype": "text/x-python",
   "name": "python",
   "nbconvert_exporter": "python",
   "pygments_lexer": "ipython3",
   "version": "3.7.0"
  }
 },
 "nbformat": 4,
 "nbformat_minor": 2
}
