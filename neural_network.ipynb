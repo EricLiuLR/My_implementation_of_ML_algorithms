{
 "cells": [
  {
   "cell_type": "code",
   "execution_count": 1,
   "metadata": {},
   "outputs": [],
   "source": [
    "import numpy as np\n",
    "from collections import OrderedDict"
   ]
  },
  {
   "cell_type": "markdown",
   "metadata": {},
   "source": [
    "### Define the layers and activation functions"
   ]
  },
  {
   "cell_type": "code",
   "execution_count": 2,
   "metadata": {},
   "outputs": [],
   "source": [
    "def softmax(x):\n",
    "    if x.ndim == 2:\n",
    "        x = x.T\n",
    "        x = x - np.max(x, axis=0)\n",
    "        y = np.exp(x) / np.sum(np.exp(x), axis=0)\n",
    "        return y.T "
   ]
  },
  {
   "cell_type": "code",
   "execution_count": 3,
   "metadata": {},
   "outputs": [],
   "source": [
    "def cross_entropy_error(y, t):\n",
    "    if y.ndim == 1:\n",
    "        y = y.reshape(1, -1)\n",
    "        t = t.reshape(1, -1)\n",
    "    batch_size = y.shape[0]\n",
    "    return -np.sum(t * np.log(y + 1e-7)) / batch_size"
   ]
  },
  {
   "cell_type": "code",
   "execution_count": 4,
   "metadata": {},
   "outputs": [],
   "source": [
    "class Affine:\n",
    "    def __init__(self, W, b):\n",
    "        self.W = W\n",
    "        self.b = b\n",
    "        self.X = None\n",
    "        self.dW = None\n",
    "        self.db = None\n",
    "        \n",
    "    def forward(self, X):\n",
    "        out = X.dot(self.W) + self.b\n",
    "        self.X = X\n",
    "        return out\n",
    "    \n",
    "    def backward(self, dout):\n",
    "        dx = dout.dot(self.W.T)\n",
    "        self.dW = self.X.T.dot(dout)\n",
    "        self.db = dout.sum(axis=0)\n",
    "        return dx"
   ]
  },
  {
   "cell_type": "code",
   "execution_count": 5,
   "metadata": {},
   "outputs": [],
   "source": [
    "class Relu:\n",
    "    def __init__(self):\n",
    "        self.mask = None\n",
    "        \n",
    "    def forward(self, x):\n",
    "        self.mask = (x <= 0)\n",
    "        out = x.copy()\n",
    "        out[self.mask] = 0\n",
    "        return out\n",
    "    \n",
    "    def backward(self, dout):\n",
    "        dx = dout.copy()\n",
    "        dx[self.mask] = 0\n",
    "        return dx"
   ]
  },
  {
   "cell_type": "code",
   "execution_count": 6,
   "metadata": {},
   "outputs": [],
   "source": [
    "class SoftmaxWithLoss:\n",
    "    def __init__(self):\n",
    "        self.loss = None\n",
    "        self.y = None\n",
    "        self.t = None\n",
    "        \n",
    "    def forward(self, x, t):\n",
    "        self.t = t\n",
    "        self.y = softmax(x)\n",
    "        self.loss = cross_entropy_error(self.y, self.t)\n",
    "        return self.loss\n",
    "    \n",
    "    def backward(self, dout=1):\n",
    "        batch_size = self.t.shape[0]\n",
    "        dx = (self.y - self.t) / batch_size\n",
    "        return dx"
   ]
  },
  {
   "cell_type": "code",
   "execution_count": 7,
   "metadata": {},
   "outputs": [],
   "source": [
    "class MyNeuralNetwork:\n",
    "    def __init__(self, input_size, hidden_size, output_size, weight_init_std=0.01):\n",
    "        self.params = params = {}\n",
    "        self.params['W1'] = weight_init_std * np.random.randn(input_size, hidden_size)\n",
    "        self.params['b1'] = np.zeros(hidden_size)\n",
    "        self.params['W2'] = weight_init_std * np.random.randn(hidden_size, output_size)\n",
    "        self.params['b2'] = np.zeros(output_size)\n",
    "        \n",
    "        self.layers = OrderedDict()\n",
    "        self.layers['Affine1'] = Affine(self.params['W1'], self.params['b1'])\n",
    "        self.layers['Relu1'] = Relu()\n",
    "        self.layers['Affine2'] = Affine(self.params['W2'], self.params['b2'])\n",
    "        \n",
    "        self.lastlayer = SoftmaxWithLoss()\n",
    "    \n",
    "    def predict(self, x):\n",
    "        for layer in self.layers.values():\n",
    "            x = layer.forward(x)\n",
    "        return x\n",
    "    \n",
    "    def loss(self, x, t):\n",
    "        y = self.predict(x)\n",
    "        return self.lastlayer.forward(y, t)\n",
    "    \n",
    "    def accuracy(self, x, t):\n",
    "        y = self.predict(x)\n",
    "        y = np.argmax(y, axis=1)\n",
    "        if t.ndim != 1:\n",
    "            t = np.argmax(t, axis=1)\n",
    "        accuracy = np.mean(y == t)\n",
    "        return accuracy\n",
    "    \n",
    "    def gradient(self, x, t):\n",
    "        \n",
    "        self.loss(x, t)\n",
    "        \n",
    "        dout = 1\n",
    "        dout = self.lastlayer.backward(dout)\n",
    "        layers = list(self.layers.values())\n",
    "        layers.reverse()\n",
    "        \n",
    "        for layer in layers:\n",
    "            dout = layer.backward(dout)\n",
    "            \n",
    "        grads = {}\n",
    "        grads['W1'] = self.layers['Affine1'].dW\n",
    "        grads['b1'] = self.layers['Affine1'].db\n",
    "        grads['W2'] = self.layers['Affine2'].dW\n",
    "        grads['b2'] = self.layers['Affine2'].db\n",
    "        \n",
    "        return grads"
   ]
  },
  {
   "cell_type": "markdown",
   "metadata": {},
   "source": [
    "### Prepare the Data"
   ]
  },
  {
   "cell_type": "code",
   "execution_count": 8,
   "metadata": {},
   "outputs": [
    {
     "name": "stderr",
     "output_type": "stream",
     "text": [
      "Using TensorFlow backend.\n"
     ]
    }
   ],
   "source": [
    "from tensorflow.keras.datasets.mnist import load_data\n",
    "from keras.utils import to_categorical"
   ]
  },
  {
   "cell_type": "code",
   "execution_count": 9,
   "metadata": {},
   "outputs": [],
   "source": [
    "(X_train, y_train), (X_test, y_test) = load_data()"
   ]
  },
  {
   "cell_type": "code",
   "execution_count": 10,
   "metadata": {},
   "outputs": [],
   "source": [
    "X_train = X_train.reshape(60000, -1) / 255\n",
    "X_test = X_test.reshape(10000, -1) / 255"
   ]
  },
  {
   "cell_type": "code",
   "execution_count": 11,
   "metadata": {},
   "outputs": [],
   "source": [
    "y_train = to_categorical(y_train)\n",
    "y_test = to_categorical(y_test)"
   ]
  },
  {
   "cell_type": "markdown",
   "metadata": {},
   "source": [
    "### Train the Model and See the Performance"
   ]
  },
  {
   "cell_type": "code",
   "execution_count": 12,
   "metadata": {},
   "outputs": [
    {
     "name": "stdout",
     "output_type": "stream",
     "text": [
      "iteration: 0, training_accuracy: 0.0954, test_accuracy: 0.0943\n",
      "iteration: 1000, training_accuracy: 0.9197, test_accuracy: 0.9231\n",
      "iteration: 2000, training_accuracy: 0.9404, test_accuracy: 0.9390\n",
      "iteration: 3000, training_accuracy: 0.9521, test_accuracy: 0.9487\n",
      "iteration: 4000, training_accuracy: 0.9590, test_accuracy: 0.9550\n",
      "iteration: 5000, training_accuracy: 0.9659, test_accuracy: 0.9613\n",
      "iteration: 6000, training_accuracy: 0.9704, test_accuracy: 0.9645\n",
      "iteration: 7000, training_accuracy: 0.9739, test_accuracy: 0.9670\n",
      "iteration: 8000, training_accuracy: 0.9765, test_accuracy: 0.9676\n",
      "iteration: 9000, training_accuracy: 0.9783, test_accuracy: 0.9692\n",
      "iteration: 10000, training_accuracy: 0.9803, test_accuracy: 0.9708\n",
      "iteration: 11000, training_accuracy: 0.9820, test_accuracy: 0.9710\n",
      "iteration: 12000, training_accuracy: 0.9830, test_accuracy: 0.9729\n",
      "iteration: 13000, training_accuracy: 0.9844, test_accuracy: 0.9731\n",
      "iteration: 14000, training_accuracy: 0.9855, test_accuracy: 0.9724\n",
      "iteration: 15000, training_accuracy: 0.9873, test_accuracy: 0.9736\n",
      "iteration: 16000, training_accuracy: 0.9882, test_accuracy: 0.9736\n",
      "iteration: 17000, training_accuracy: 0.9887, test_accuracy: 0.9740\n",
      "iteration: 18000, training_accuracy: 0.9894, test_accuracy: 0.9752\n",
      "iteration: 19000, training_accuracy: 0.9898, test_accuracy: 0.9751\n",
      "iteration: 20000, training_accuracy: 0.9906, test_accuracy: 0.9757\n"
     ]
    }
   ],
   "source": [
    "network = MyNeuralNetwork(input_size=784, hidden_size=50, output_size=10)\n",
    "\n",
    "iters_num = 20001\n",
    "train_size = X_train.shape[0]\n",
    "batch_size = 200\n",
    "learning_rate = 0.1\n",
    "\n",
    "for i in range(iters_num):\n",
    "    batch_mask = np.random.choice(train_size, batch_size)\n",
    "    X_batch = X_train[batch_mask]\n",
    "    y_batch = y_train[batch_mask]\n",
    "\n",
    "    grad = network.gradient(X_batch, y_batch)\n",
    "\n",
    "    for key in ('W1', 'b1', 'W2', 'b2'):\n",
    "        network.params[key] -= learning_rate * grad[key]\n",
    "    if i % 1000 == 0:\n",
    "        print('iteration: {}, training_accuracy: {:.4f}, test_accuracy: {:.4f}'.\n",
    "              format(i, network.accuracy(X_train, y_train), network.accuracy(X_test, y_test)))"
   ]
  }
 ],
 "metadata": {
  "kernelspec": {
   "display_name": "Python 3",
   "language": "python",
   "name": "python3"
  },
  "language_info": {
   "codemirror_mode": {
    "name": "ipython",
    "version": 3
   },
   "file_extension": ".py",
   "mimetype": "text/x-python",
   "name": "python",
   "nbconvert_exporter": "python",
   "pygments_lexer": "ipython3",
   "version": "3.7.3"
  }
 },
 "nbformat": 4,
 "nbformat_minor": 2
}
