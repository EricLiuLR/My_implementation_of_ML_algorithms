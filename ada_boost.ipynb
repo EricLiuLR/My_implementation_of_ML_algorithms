{
 "cells": [
  {
   "cell_type": "code",
   "execution_count": 1,
   "metadata": {},
   "outputs": [],
   "source": [
    "import numpy as np\n",
    "import copy\n",
    "from sklearn.datasets import load_breast_cancer\n",
    "from sklearn.tree import DecisionTreeClassifier\n",
    "from sklearn.base import BaseEstimator\n",
    "from sklearn.model_selection import StratifiedKFold\n",
    "from sklearn.model_selection import cross_val_score"
   ]
  },
  {
   "cell_type": "code",
   "execution_count": 2,
   "metadata": {},
   "outputs": [],
   "source": [
    "kf = StratifiedKFold(n_splits=10, shuffle=True, random_state=0)\n",
    "metric = 'accuracy'"
   ]
  },
  {
   "cell_type": "code",
   "execution_count": 3,
   "metadata": {},
   "outputs": [],
   "source": [
    "cancer = load_breast_cancer()"
   ]
  },
  {
   "cell_type": "code",
   "execution_count": 4,
   "metadata": {},
   "outputs": [],
   "source": [
    "X_train, y_train = cancer.data, (cancer.target - 0.5) * 2"
   ]
  },
  {
   "cell_type": "code",
   "execution_count": 5,
   "metadata": {},
   "outputs": [
    {
     "data": {
      "text/plain": [
       "((569, 30), (569,))"
      ]
     },
     "execution_count": 5,
     "metadata": {},
     "output_type": "execute_result"
    }
   ],
   "source": [
    "X_train.shape, y_train.shape"
   ]
  },
  {
   "cell_type": "code",
   "execution_count": 6,
   "metadata": {},
   "outputs": [],
   "source": [
    "def performance(model):\n",
    "    score = cross_val_score(model, X_train, y_train, cv=kf, scoring=metric, n_jobs=4).mean()\n",
    "    return score"
   ]
  },
  {
   "cell_type": "code",
   "execution_count": 7,
   "metadata": {},
   "outputs": [],
   "source": [
    "class MyAdaBoost(BaseEstimator):\n",
    "    def __init__(self, base_estimator=DecisionTreeClassifier(max_depth=3), n_estimators=10, learning_rate=1.0):\n",
    "        self.base_estimator = base_estimator\n",
    "        self.n_estimators = n_estimators\n",
    "        self.learning_rate = learning_rate\n",
    "        self.estimators = []\n",
    "        self.amount_of_says = []\n",
    "    \n",
    "    def generate_weighted_data(self, data, target, weights):\n",
    "        dist = np.cumsum(weights)\n",
    "        new_data = []\n",
    "        new_target = []\n",
    "        for _ in range(data.shape[0]):\n",
    "            random_num = np.random.rand()\n",
    "            for i in range(len(dist)):\n",
    "                if random_num <= dist[i]:\n",
    "                    if i == 0:\n",
    "                        new_data.append(data[i])\n",
    "                        new_target.append(target[i])\n",
    "                        break\n",
    "                    if random_num > dist[i-1]:\n",
    "                        new_data.append(data[i])\n",
    "                        new_target.append(target[i])\n",
    "                        break\n",
    "        return np.array(new_data), np.array(new_target)\n",
    "    \n",
    "    def fit(self, X, y):\n",
    "        data = X.copy()\n",
    "        target = y.copy()\n",
    "        for _ in range(self.n_estimators):\n",
    "            weights = np.ones(X.shape[0]) / X.shape[0]\n",
    "            self.base_estimator.fit(data, target)\n",
    "            tmp_pred = self.base_estimator.predict(data)\n",
    "            error_index = (y!=tmp_pred)\n",
    "            error_rate = weights[error_index].sum()\n",
    "            tmp_amount_of_say = 1 / 2 * np.log((1-error_rate)/error_rate)\n",
    "            for i in range(len(weights)):\n",
    "                if error_index[i]:\n",
    "                    weights[i] *= np.exp(tmp_amount_of_say)\n",
    "                else:\n",
    "                    weights[i] *= np.exp(-tmp_amount_of_say)\n",
    "            weights = weights / weights.sum()\n",
    "            self.estimators.append(copy.copy(self.base_estimator))\n",
    "            self.amount_of_says.append(tmp_amount_of_say)\n",
    "            data, target= self.generate_weighted_data(data, target, weights)\n",
    "        return self\n",
    "    \n",
    "    def predict(self, X):\n",
    "        y_scores = np.zeros(X.shape[0])\n",
    "        for i in range(len(self.estimators)):\n",
    "            y_scores += self.learning_rate * self.amount_of_says[i] * self.estimators[i].predict(X)\n",
    "        y_pred = np.sign(y_scores)\n",
    "        return y_pred"
   ]
  },
  {
   "cell_type": "code",
   "execution_count": 8,
   "metadata": {},
   "outputs": [
    {
     "data": {
      "text/plain": [
       "0.9243647912885662"
      ]
     },
     "execution_count": 8,
     "metadata": {},
     "output_type": "execute_result"
    }
   ],
   "source": [
    "performance(MyAdaBoost())"
   ]
  }
 ],
 "metadata": {
  "kernelspec": {
   "display_name": "Python 3",
   "language": "python",
   "name": "python3"
  },
  "language_info": {
   "codemirror_mode": {
    "name": "ipython",
    "version": 3
   },
   "file_extension": ".py",
   "mimetype": "text/x-python",
   "name": "python",
   "nbconvert_exporter": "python",
   "pygments_lexer": "ipython3",
   "version": "3.7.0"
  }
 },
 "nbformat": 4,
 "nbformat_minor": 2
}
