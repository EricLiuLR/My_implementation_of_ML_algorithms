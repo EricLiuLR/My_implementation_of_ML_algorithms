{
 "cells": [
  {
   "cell_type": "code",
   "execution_count": 1,
   "metadata": {},
   "outputs": [],
   "source": [
    "import numpy as np\n",
    "from sklearn.model_selection import cross_val_score\n",
    "from sklearn.datasets import load_iris\n",
    "from sklearn.base import BaseEstimator\n",
    "from sklearn.preprocessing import StandardScaler\n",
    "from sklearn.model_selection import StratifiedKFold"
   ]
  },
  {
   "cell_type": "code",
   "execution_count": 2,
   "metadata": {},
   "outputs": [],
   "source": [
    "iris = load_iris()\n",
    "X_train, y_train = StandardScaler().fit_transform(iris.data), iris.target"
   ]
  },
  {
   "cell_type": "code",
   "execution_count": 3,
   "metadata": {},
   "outputs": [
    {
     "data": {
      "text/plain": [
       "((150, 4), (150,))"
      ]
     },
     "execution_count": 3,
     "metadata": {},
     "output_type": "execute_result"
    }
   ],
   "source": [
    "X_train.shape, y_train.shape"
   ]
  },
  {
   "cell_type": "code",
   "execution_count": 4,
   "metadata": {},
   "outputs": [],
   "source": [
    "def performance(model):\n",
    "    score = cross_val_score(model, X_train, y_train, cv=StratifiedKFold(n_splits=10, shuffle=True, random_state=0), scoring='accuracy').mean()\n",
    "    return score"
   ]
  },
  {
   "cell_type": "code",
   "execution_count": 5,
   "metadata": {},
   "outputs": [],
   "source": [
    "class MyDecisionTree(BaseEstimator):\n",
    "    def __init__(self, max_depth=10):\n",
    "        self.max_depth = max_depth\n",
    "        self.tree_ = None\n",
    "        \n",
    "    def calculate_gini(self, y):\n",
    "        n = len(y)\n",
    "        y_distribution = {}\n",
    "        for member in y:\n",
    "            y_distribution[member] = y_distribution.get(member, 0) + 1\n",
    "        gini = 1\n",
    "        for num in y_distribution.values():\n",
    "            gini -= (num / n) ** 2\n",
    "        return gini\n",
    "\n",
    "    def split_data(self, X, y, feature_index, split_point):\n",
    "        left_index = (X[:, feature_index]<=split_point)\n",
    "        right_index = (X[:, feature_index]>split_point)\n",
    "        return X[left_index], X[right_index], y[left_index], y[right_index]\n",
    "\n",
    "    def select_feature(self, X, y, n, m):\n",
    "        best_info_gain = [0] * m\n",
    "        best_split_point = [None] * m\n",
    "        base_gini = self.calculate_gini(y)\n",
    "        for i in range(m):\n",
    "            this_best_info_gain = 0\n",
    "            this_best_split_point = 1\n",
    "            for j in range(n):\n",
    "                split_point = X[j, i]\n",
    "                _, _, y_left, y_right = self.split_data(X, y, i, split_point)\n",
    "                this_gini = len(y_left) / n * self.calculate_gini(y_left) + len(y_right) / n * self.calculate_gini(y_right)\n",
    "                this_info_gain = base_gini - this_gini\n",
    "                if this_info_gain > this_best_info_gain:\n",
    "                    this_best_info_gain = this_info_gain\n",
    "                    this_best_split_point = split_point\n",
    "            best_info_gain[i] = this_best_info_gain\n",
    "            best_split_point[i] = this_best_split_point\n",
    "        selected_feature_index = np.argmax(best_info_gain)\n",
    "        return selected_feature_index, best_split_point[selected_feature_index]\n",
    "\n",
    "    def major(self, y):\n",
    "        y_distribution = {}\n",
    "        for member in y:\n",
    "            y_distribution[member] = y_distribution.get(member, 0) + 1\n",
    "        y_members = list(y_distribution.keys())\n",
    "        y_numbers = list(y_distribution.values())\n",
    "        major_member = y_members[np.argmax(y_numbers)]\n",
    "        return major_member\n",
    "\n",
    "    def build_tree(self, X, y, depth=1):\n",
    "        n = X.shape[0]\n",
    "        m = X.shape[1]\n",
    "        tree = {}\n",
    "        if len(set(y)) == 1:\n",
    "            return y[0]\n",
    "        if depth >= self.max_depth:\n",
    "            return self.major(y)\n",
    "        depth += 1\n",
    "        feature_index, split_point = self.select_feature(X, y, n, m)\n",
    "        X_left, X_right, y_left, y_right = self.split_data(X, y, feature_index, split_point)\n",
    "        tree[(feature_index, split_point, True)] = self.build_tree(X_left, y_left, depth)\n",
    "        tree[(feature_index, split_point, False)] = self.build_tree(X_right, y_right, depth)\n",
    "        return tree\n",
    "    \n",
    "    def go_down_the_tree(self, tree, x):\n",
    "        if np.isscalar(tree):\n",
    "            return tree\n",
    "        index, split_point, _ = list(tree.keys())[0]\n",
    "        if x[index] <= split_point:\n",
    "            return self.go_down_the_tree(tree[(index, split_point, True)], x)\n",
    "        else:\n",
    "            return self.go_down_the_tree(tree[(index, split_point, False)], x)\n",
    "\n",
    "    def fit(self, X, y):\n",
    "        self.tree_ = self.build_tree(X, y)\n",
    "        return self\n",
    "    \n",
    "    def predict(self, X):\n",
    "        y_pred = []\n",
    "        for x in X:\n",
    "            y_pred.append(self.go_down_the_tree(self.tree_, x))\n",
    "        return np.array(y_pred)"
   ]
  },
  {
   "cell_type": "code",
   "execution_count": 6,
   "metadata": {},
   "outputs": [
    {
     "data": {
      "text/plain": [
       "0.9533333333333334"
      ]
     },
     "execution_count": 6,
     "metadata": {},
     "output_type": "execute_result"
    }
   ],
   "source": [
    "performance(MyDecisionTree(max_depth=4))"
   ]
  }
 ],
 "metadata": {
  "kernelspec": {
   "display_name": "Python 3",
   "language": "python",
   "name": "python3"
  },
  "language_info": {
   "codemirror_mode": {
    "name": "ipython",
    "version": 3
   },
   "file_extension": ".py",
   "mimetype": "text/x-python",
   "name": "python",
   "nbconvert_exporter": "python",
   "pygments_lexer": "ipython3",
   "version": "3.7.0"
  }
 },
 "nbformat": 4,
 "nbformat_minor": 2
}
