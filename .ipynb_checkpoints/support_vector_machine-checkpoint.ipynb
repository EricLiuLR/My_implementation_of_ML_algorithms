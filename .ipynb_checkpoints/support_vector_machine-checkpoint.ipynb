{
 "cells": [
  {
   "cell_type": "code",
   "execution_count": 1,
   "metadata": {},
   "outputs": [],
   "source": [
    "import numpy as np\n",
    "import seaborn as sns\n",
    "import matplotlib.pyplot as plt\n",
    "from sklearn.model_selection import cross_val_score\n",
    "from sklearn.preprocessing import StandardScaler\n",
    "from sklearn.datasets import load_breast_cancer\n",
    "from sklearn.base import BaseEstimator"
   ]
  },
  {
   "cell_type": "code",
   "execution_count": 2,
   "metadata": {},
   "outputs": [],
   "source": [
    "cancer = load_breast_cancer()\n",
    "X_train, y_train = StandardScaler().fit_transform(cancer.data), np.sign(cancer.target - 0.5)"
   ]
  },
  {
   "cell_type": "code",
   "execution_count": 3,
   "metadata": {},
   "outputs": [
    {
     "data": {
      "text/plain": [
       "((569, 30), (569,))"
      ]
     },
     "execution_count": 3,
     "metadata": {},
     "output_type": "execute_result"
    }
   ],
   "source": [
    "X_train.shape, y_train.shape"
   ]
  },
  {
   "cell_type": "code",
   "execution_count": 4,
   "metadata": {},
   "outputs": [],
   "source": [
    "def performance(model):\n",
    "    score = cross_val_score(model, X_train, y_train, cv=3, scoring='accuracy').mean()\n",
    "    return score"
   ]
  },
  {
   "cell_type": "markdown",
   "metadata": {},
   "source": [
    "## MySVC"
   ]
  },
  {
   "cell_type": "code",
   "execution_count": 5,
   "metadata": {},
   "outputs": [],
   "source": [
    "class MySVC(BaseEstimator):\n",
    "    def __init__(self, C=1, max_iter=100, learning_rate=0.001):\n",
    "        self.C = C\n",
    "        self.max_iter = max_iter\n",
    "        self.learning_rate = learning_rate\n",
    "        self.w_ = None\n",
    "        self.b_ = None\n",
    "    def fit(self, X, y):\n",
    "        n = X.shape[0]\n",
    "        m = X.shape[1]\n",
    "        w = np.zeros((m, 1))\n",
    "        b = 0\n",
    "        for _ in range(self.max_iter):\n",
    "            for __ in range(n):\n",
    "                random_index = np.random.randint(n)\n",
    "                x = X[random_index:random_index+1, :].T\n",
    "                if y[random_index] * (w.T.dot(x) + b) >= 1:\n",
    "                    w_gradient = 1 / n * w\n",
    "                    b_gradient = 0\n",
    "                else:\n",
    "                    w_gradient = 1 / n * w - self.C * y[random_index] * x\n",
    "                    b_gradient = - self.C * y[random_index]\n",
    "                w -= self.learning_rate * w_gradient\n",
    "                b -= self.learning_rate * b_gradient\n",
    "        self.w_ = w\n",
    "        self.b_ = b\n",
    "        return self\n",
    "    def predict(self, X):\n",
    "        y_scores = X.dot(self.w_) + self.b_\n",
    "        y_pred = np.sign(y_scores)\n",
    "        return y_pred"
   ]
  },
  {
   "cell_type": "markdown",
   "metadata": {},
   "source": [
    "## MySVC和sklearn的LinearSVC得到相近的准确率"
   ]
  },
  {
   "cell_type": "code",
   "execution_count": 6,
   "metadata": {},
   "outputs": [
    {
     "data": {
      "text/plain": [
       "0.9701290262693772"
      ]
     },
     "execution_count": 6,
     "metadata": {},
     "output_type": "execute_result"
    }
   ],
   "source": [
    "performance(MySVC())"
   ]
  },
  {
   "cell_type": "code",
   "execution_count": 7,
   "metadata": {},
   "outputs": [],
   "source": [
    "from sklearn.svm import LinearSVC"
   ]
  },
  {
   "cell_type": "code",
   "execution_count": 8,
   "metadata": {},
   "outputs": [
    {
     "data": {
      "text/plain": [
       "0.9631021999443052"
      ]
     },
     "execution_count": 8,
     "metadata": {},
     "output_type": "execute_result"
    }
   ],
   "source": [
    "performance(LinearSVC())"
   ]
  },
  {
   "cell_type": "markdown",
   "metadata": {},
   "source": [
    "## 使用一个简单的数据集可视化MySVC的分类边界"
   ]
  },
  {
   "cell_type": "code",
   "execution_count": 9,
   "metadata": {},
   "outputs": [],
   "source": [
    "X = np.array([\n",
    "    [0, 0],\n",
    "    [1, 0],\n",
    "    [0, 1],\n",
    "    [0.5, 0.6],\n",
    "    [0.3, 0.7],\n",
    "    [0.7, 0.4],\n",
    "    [2, 2],\n",
    "    [0.8, 0.9],\n",
    "    [1.3, 1],\n",
    "    [1.5, 0.9],\n",
    "    [1.7, 1.8],\n",
    "    [3, 3]\n",
    "])\n",
    "y = np.array([-1, -1, -1, 1, -1, -1, 1, 1, 1, 1, 1, 1])"
   ]
  },
  {
   "cell_type": "code",
   "execution_count": 10,
   "metadata": {},
   "outputs": [],
   "source": [
    "from sklearn.metrics import accuracy_score"
   ]
  },
  {
   "cell_type": "markdown",
   "metadata": {},
   "source": [
    "## C=100"
   ]
  },
  {
   "cell_type": "code",
   "execution_count": 11,
   "metadata": {},
   "outputs": [
    {
     "data": {
      "image/png": "[encoded data removed]",
      "text/plain": [
       "<Figure size 432x288 with 1 Axes>"
      ]
     },
     "metadata": {
      "needs_background": "light"
     },
     "output_type": "display_data"
    }
   ],
   "source": [
    "my_svc = MySVC(C=100)\n",
    "my_svc.fit(X, y)\n",
    "y_pred = my_svc.predict(X)\n",
    "\n",
    "tmp_x = np.arange(0, 3, 0.1)\n",
    "w = my_svc.w_.ravel()\n",
    "b = my_svc.b_\n",
    "tmp_y = (-b - w[0] * tmp_x) / w[1]\n",
    "tmp_y_up = (1 -b - w[0] * tmp_x) / w[1]\n",
    "tmp_y_low = (- 1 -b - w[0] * tmp_x) / w[1]\n",
    "\n",
    "plt.scatter(X[:6, 0], X[:6, 1])\n",
    "plt.scatter(X[7:, 0], X[7:, 1], c='red')\n",
    "sns.lineplot(x=tmp_x, y=tmp_y)\n",
    "plt.plot(tmp_x, tmp_y_up, 'g--', alpha=0.5)\n",
    "plt.plot(tmp_x, tmp_y_low, 'g--', alpha=0.5)\n",
    "plt.show()"
   ]
  },
  {
   "cell_type": "markdown",
   "metadata": {},
   "source": [
    "## C=10"
   ]
  },
  {
   "cell_type": "code",
   "execution_count": 12,
   "metadata": {},
   "outputs": [
    {
     "data": {
      "image/png": "[encoded data removed]",
      "text/plain": [
       "<Figure size 432x288 with 1 Axes>"
      ]
     },
     "metadata": {
      "needs_background": "light"
     },
     "output_type": "display_data"
    }
   ],
   "source": [
    "my_svc = MySVC(C=10)\n",
    "my_svc.fit(X, y)\n",
    "y_pred = my_svc.predict(X)\n",
    "\n",
    "tmp_x = np.arange(0, 3, 0.1)\n",
    "w = my_svc.w_.ravel()\n",
    "b = my_svc.b_\n",
    "tmp_y = (-b - w[0] * tmp_x) / w[1]\n",
    "tmp_y_up = (1 -b - w[0] * tmp_x) / w[1]\n",
    "tmp_y_low = (- 1 -b - w[0] * tmp_x) / w[1]\n",
    "\n",
    "plt.scatter(X[:6, 0], X[:6, 1])\n",
    "plt.scatter(X[7:, 0], X[7:, 1], c='red')\n",
    "sns.lineplot(x=tmp_x, y=tmp_y)\n",
    "plt.plot(tmp_x, tmp_y_up, 'g--', alpha=0.5)\n",
    "plt.plot(tmp_x, tmp_y_low, 'g--', alpha=0.5)\n",
    "plt.show()"
   ]
  }
 ],
 "metadata": {
  "kernelspec": {
   "display_name": "Python 3",
   "language": "python",
   "name": "python3"
  },
  "language_info": {
   "codemirror_mode": {
    "name": "ipython",
    "version": 3
   },
   "file_extension": ".py",
   "mimetype": "text/x-python",
   "name": "python",
   "nbconvert_exporter": "python",
   "pygments_lexer": "ipython3",
   "version": "3.7.0"
  }
 },
 "nbformat": 4,
 "nbformat_minor": 2
}
