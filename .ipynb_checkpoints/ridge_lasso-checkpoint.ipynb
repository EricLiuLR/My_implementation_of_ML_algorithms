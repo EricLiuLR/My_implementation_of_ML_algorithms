{
 "cells": [
  {
   "cell_type": "code",
   "execution_count": 1,
   "metadata": {},
   "outputs": [],
   "source": [
    "import numpy as np\n",
    "import pandas as pd\n",
    "import seaborn as sns\n",
    "import matplotlib.pyplot as plt\n",
    "from sklearn.base import BaseEstimator\n",
    "from sklearn.model_selection import cross_val_score\n",
    "from sklearn.datasets import load_boston\n",
    "from sklearn.preprocessing import StandardScaler"
   ]
  },
  {
   "cell_type": "code",
   "execution_count": 2,
   "metadata": {},
   "outputs": [],
   "source": [
    "X_train, y_train = StandardScaler().fit_transform(load_boston().data), load_boston().target"
   ]
  },
  {
   "cell_type": "code",
   "execution_count": 3,
   "metadata": {},
   "outputs": [
    {
     "data": {
      "text/plain": [
       "((506, 13), (506,))"
      ]
     },
     "execution_count": 3,
     "metadata": {},
     "output_type": "execute_result"
    }
   ],
   "source": [
    "X_train.shape, y_train.shape"
   ]
  },
  {
   "cell_type": "code",
   "execution_count": 4,
   "metadata": {},
   "outputs": [],
   "source": [
    "def performance(model):\n",
    "    scores = cross_val_score(model, X_train, y_train, cv=3, scoring='neg_mean_squared_error')\n",
    "    score = np.sqrt(-scores).mean()\n",
    "    return score"
   ]
  },
  {
   "cell_type": "markdown",
   "metadata": {},
   "source": [
    "## Ridge（以sklearn中的Ridge模型作为参照）"
   ]
  },
  {
   "cell_type": "code",
   "execution_count": 5,
   "metadata": {},
   "outputs": [],
   "source": [
    "from sklearn.linear_model import Ridge"
   ]
  },
  {
   "cell_type": "code",
   "execution_count": 6,
   "metadata": {},
   "outputs": [],
   "source": [
    "class MyRidge(BaseEstimator):\n",
    "    def __init__(self, alpha=1, max_iter = 2000, learning_rate=0.01):\n",
    "        self.alpha = alpha\n",
    "        self.max_iter = max_iter\n",
    "        self.learning_rate = learning_rate\n",
    "        self.w_ = None\n",
    "    def fit(self, _X, y):\n",
    "        m = _X.shape[1]\n",
    "        n = _X.shape[0]\n",
    "        X = _X.copy()\n",
    "        w = np.zeros((m, 1))\n",
    "        b = 0\n",
    "        for _ in range(self.max_iter):\n",
    "            w_gradient = 2 / n * X.T.dot(X.dot(w) + b - y.reshape(-1, 1)) + self.alpha * w\n",
    "            w -= self.learning_rate * w_gradient\n",
    "            for i in range(n):\n",
    "                b_gradient = 2 / n * (X[i:i+1].dot(w) + b - y[i:i+1].reshape(-1, 1))\n",
    "                b -= self.learning_rate * b_gradient\n",
    "        self.w_ = np.vstack((b, w))\n",
    "        return self\n",
    "    def predict(self, _X):\n",
    "        X = _X.copy()\n",
    "        X = np.c_[np.ones((_X.shape[0], 1)), X]\n",
    "        return X.dot(self.w_)"
   ]
  },
  {
   "cell_type": "code",
   "execution_count": 7,
   "metadata": {},
   "outputs": [
    {
     "data": {
      "text/plain": [
       "7.340413035618069"
      ]
     },
     "execution_count": 7,
     "metadata": {},
     "output_type": "execute_result"
    }
   ],
   "source": [
    "performance(Ridge())"
   ]
  },
  {
   "cell_type": "code",
   "execution_count": 8,
   "metadata": {},
   "outputs": [
    {
     "data": {
      "text/plain": [
       "6.109109554318269"
      ]
     },
     "execution_count": 8,
     "metadata": {},
     "output_type": "execute_result"
    }
   ],
   "source": [
    "performance(MyRidge())"
   ]
  },
  {
   "cell_type": "markdown",
   "metadata": {},
   "source": [
    "## Lasso（以sklearn中的Lasso模型为参照）"
   ]
  },
  {
   "cell_type": "code",
   "execution_count": 9,
   "metadata": {},
   "outputs": [],
   "source": [
    "from sklearn.linear_model import Lasso"
   ]
  },
  {
   "cell_type": "code",
   "execution_count": 10,
   "metadata": {},
   "outputs": [],
   "source": [
    "class MyLasso(BaseEstimator):\n",
    "    def __init__(self, alpha=1, max_iter = 1000, learning_rate=0.01):\n",
    "        self.alpha = alpha\n",
    "        self.max_iter = max_iter\n",
    "        self.learning_rate = learning_rate\n",
    "        self.w_ = None\n",
    "    def fit(self, _X, y):\n",
    "        m = _X.shape[1]\n",
    "        n = _X.shape[0]\n",
    "        X = _X.copy()\n",
    "        w = np.zeros((m, 1))\n",
    "        b = 0\n",
    "        for _ in range(self.max_iter):\n",
    "            w_gradient = 2 / n * X.T.dot(X.dot(w) + b - y.reshape(-1, 1)) + self.alpha * np.sign(w)\n",
    "            w -= self.learning_rate * w_gradient\n",
    "            for i in range(n):\n",
    "                b_gradient = 2 / n * (X[i:i+1].dot(w) + b - y[i:i+1])\n",
    "                b -= self.learning_rate * b_gradient\n",
    "        self.w_ = np.vstack((b, w))\n",
    "        return self\n",
    "    def predict(self, _X):\n",
    "        X = _X.copy()\n",
    "        X = np.c_[np.ones((_X.shape[0], 1)), X]\n",
    "        return X.dot(self.w_)"
   ]
  },
  {
   "cell_type": "code",
   "execution_count": 11,
   "metadata": {},
   "outputs": [
    {
     "data": {
      "text/plain": [
       "7.350782273159711"
      ]
     },
     "execution_count": 11,
     "metadata": {},
     "output_type": "execute_result"
    }
   ],
   "source": [
    "performance(Lasso())"
   ]
  },
  {
   "cell_type": "code",
   "execution_count": 12,
   "metadata": {},
   "outputs": [
    {
     "data": {
      "text/plain": [
       "6.712325493516743"
      ]
     },
     "execution_count": 12,
     "metadata": {},
     "output_type": "execute_result"
    }
   ],
   "source": [
    "performance(MyLasso())"
   ]
  }
 ],
 "metadata": {
  "kernelspec": {
   "display_name": "Python 3",
   "language": "python",
   "name": "python3"
  },
  "language_info": {
   "codemirror_mode": {
    "name": "ipython",
    "version": 3
   },
   "file_extension": ".py",
   "mimetype": "text/x-python",
   "name": "python",
   "nbconvert_exporter": "python",
   "pygments_lexer": "ipython3",
   "version": "3.7.3"
  }
 },
 "nbformat": 4,
 "nbformat_minor": 2
}
